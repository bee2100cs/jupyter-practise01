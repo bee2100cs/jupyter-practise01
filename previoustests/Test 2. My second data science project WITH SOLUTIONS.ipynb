{
 "cells": [
  {
   "cell_type": "markdown",
   "id": "appointed-ethnic",
   "metadata": {},
   "source": [
    "# Test 2. My second data science project"
   ]
  },
  {
   "cell_type": "code",
   "execution_count": null,
   "id": "neither-sustainability",
   "metadata": {},
   "outputs": [],
   "source": []
  },
  {
   "cell_type": "markdown",
   "id": "living-board",
   "metadata": {},
   "source": [
    "## In this lab you will apply the concepts and techniques developed in previous sessions. You are expected to work on the assignments on your own DURING the duration of the lab.\n",
    "## You are expected to submit the code developed as well as a brief description of your findings and insights for each assigment AT THE END of the lab. \n",
    "\n",
    "## This lab represents 20% of the total marking of the module¶"
   ]
  },
  {
   "cell_type": "code",
   "execution_count": null,
   "id": "defined-picnic",
   "metadata": {},
   "outputs": [],
   "source": []
  },
  {
   "cell_type": "code",
   "execution_count": 2,
   "id": "republican-affect",
   "metadata": {},
   "outputs": [],
   "source": [
    "import json\n",
    "import pandas as pd\n",
    "import seaborn as sns\n",
    "\n",
    "import numpy as np\n",
    "import matplotlib.pyplot as plt\n",
    "import re\n",
    "import math"
   ]
  },
  {
   "cell_type": "code",
   "execution_count": 3,
   "id": "egyptian-wages",
   "metadata": {},
   "outputs": [
    {
     "data": {
      "text/html": [
       "<style>.container { width:100% !important; }</style>"
      ],
      "text/plain": [
       "<IPython.core.display.HTML object>"
      ]
     },
     "metadata": {},
     "output_type": "display_data"
    }
   ],
   "source": [
    "from IPython.core.display import display, HTML\n",
    "display(HTML(\"<style>.container { width:100% !important; }</style>\"))"
   ]
  },
  {
   "cell_type": "code",
   "execution_count": 4,
   "id": "above-portable",
   "metadata": {},
   "outputs": [
    {
     "name": "stdout",
     "output_type": "stream",
     "text": [
      "Collecting spacy==2.2.3\n",
      "  Downloading spacy-2.2.3-cp37-cp37m-manylinux1_x86_64.whl (10.4 MB)\n",
      "\u001b[K     |████████████████████████████████| 10.4 MB 29 kB/s  eta 0:00:01    |███████                         | 2.3 MB 2.7 MB/s eta 0:00:04     |█████████████▌                  | 4.4 MB 2.7 MB/s eta 0:00:03     |███████████████████▊            | 6.4 MB 2.7 MB/s eta 0:00:02�███▌       | 7.9 MB 2.7 MB/s eta 0:00:01\n",
      "\u001b[?25hCollecting wasabi<1.1.0,>=0.4.0\n",
      "  Downloading wasabi-0.8.2-py3-none-any.whl (23 kB)\n",
      "Collecting plac<1.2.0,>=0.9.6\n",
      "  Downloading plac-1.1.3-py2.py3-none-any.whl (20 kB)\n",
      "Requirement already satisfied: setuptools in /srv/conda/envs/notebook/lib/python3.7/site-packages (from spacy==2.2.3) (49.6.0.post20210108)\n",
      "Collecting thinc<7.4.0,>=7.3.0\n",
      "  Downloading thinc-7.3.1-cp37-cp37m-manylinux1_x86_64.whl (2.2 MB)\n",
      "\u001b[K     |████████████████████████████████| 2.2 MB 19.9 MB/s eta 0:00:01\n",
      "\u001b[?25hRequirement already satisfied: requests<3.0.0,>=2.13.0 in /srv/conda/envs/notebook/lib/python3.7/site-packages (from spacy==2.2.3) (2.25.1)\n",
      "Collecting cymem<2.1.0,>=2.0.2\n",
      "  Downloading cymem-2.0.5-cp37-cp37m-manylinux2014_x86_64.whl (35 kB)\n",
      "Requirement already satisfied: numpy>=1.15.0 in /srv/conda/envs/notebook/lib/python3.7/site-packages (from spacy==2.2.3) (1.18.5)\n",
      "Collecting preshed<3.1.0,>=3.0.2\n",
      "  Downloading preshed-3.0.5-cp37-cp37m-manylinux2014_x86_64.whl (126 kB)\n",
      "\u001b[K     |████████████████████████████████| 126 kB 6.0 MB/s eta 0:00:01\n",
      "\u001b[?25hCollecting catalogue<1.1.0,>=0.0.7\n",
      "  Downloading catalogue-1.0.0-py2.py3-none-any.whl (7.7 kB)\n",
      "Collecting srsly<1.1.0,>=0.1.0\n",
      "  Downloading srsly-1.0.5-cp37-cp37m-manylinux2014_x86_64.whl (184 kB)\n",
      "\u001b[K     |████████████████████████████████| 184 kB 8.8 MB/s eta 0:00:01\n",
      "\u001b[?25hCollecting murmurhash<1.1.0,>=0.28.0\n",
      "  Downloading murmurhash-1.0.5-cp37-cp37m-manylinux2014_x86_64.whl (20 kB)\n",
      "Collecting blis<0.5.0,>=0.4.0\n",
      "  Downloading blis-0.4.1-cp37-cp37m-manylinux1_x86_64.whl (3.7 MB)\n",
      "\u001b[K     |████████████████████████████████| 3.7 MB 53.5 MB/s eta 0:00:01\n",
      "\u001b[?25hRequirement already satisfied: importlib-metadata>=0.20 in /srv/conda/envs/notebook/lib/python3.7/site-packages (from catalogue<1.1.0,>=0.0.7->spacy==2.2.3) (3.4.0)\n",
      "Requirement already satisfied: zipp>=0.5 in /srv/conda/envs/notebook/lib/python3.7/site-packages (from importlib-metadata>=0.20->catalogue<1.1.0,>=0.0.7->spacy==2.2.3) (3.4.0)\n",
      "Requirement already satisfied: typing-extensions>=3.6.4 in /srv/conda/envs/notebook/lib/python3.7/site-packages (from importlib-metadata>=0.20->catalogue<1.1.0,>=0.0.7->spacy==2.2.3) (3.7.4.3)\n",
      "Requirement already satisfied: chardet<5,>=3.0.2 in /srv/conda/envs/notebook/lib/python3.7/site-packages (from requests<3.0.0,>=2.13.0->spacy==2.2.3) (4.0.0)\n",
      "Requirement already satisfied: urllib3<1.27,>=1.21.1 in /srv/conda/envs/notebook/lib/python3.7/site-packages (from requests<3.0.0,>=2.13.0->spacy==2.2.3) (1.26.3)\n",
      "Requirement already satisfied: certifi>=2017.4.17 in /srv/conda/envs/notebook/lib/python3.7/site-packages (from requests<3.0.0,>=2.13.0->spacy==2.2.3) (2020.12.5)\n",
      "Requirement already satisfied: idna<3,>=2.5 in /srv/conda/envs/notebook/lib/python3.7/site-packages (from requests<3.0.0,>=2.13.0->spacy==2.2.3) (2.10)\n",
      "Collecting tqdm<5.0.0,>=4.10.0\n",
      "  Downloading tqdm-4.59.0-py2.py3-none-any.whl (74 kB)\n",
      "\u001b[K     |████████████████████████████████| 74 kB 1.0 MB/s  eta 0:00:01\n",
      "\u001b[?25hInstalling collected packages: murmurhash, cymem, wasabi, tqdm, srsly, preshed, plac, blis, thinc, catalogue, spacy\n",
      "Successfully installed blis-0.4.1 catalogue-1.0.0 cymem-2.0.5 murmurhash-1.0.5 plac-1.1.3 preshed-3.0.5 spacy-2.2.3 srsly-1.0.5 thinc-7.3.1 tqdm-4.59.0 wasabi-0.8.2\n"
     ]
    }
   ],
   "source": [
    "!pip install -U spacy==2.2.3\n"
   ]
  },
  {
   "cell_type": "code",
   "execution_count": 5,
   "id": "greatest-cemetery",
   "metadata": {},
   "outputs": [
    {
     "name": "stdout",
     "output_type": "stream",
     "text": [
      "Collecting en_core_web_sm==2.2.5\n",
      "  Downloading https://github.com/explosion/spacy-models/releases/download/en_core_web_sm-2.2.5/en_core_web_sm-2.2.5.tar.gz (12.0 MB)\n",
      "\u001b[K     |████████████████████████████████| 12.0 MB 3.8 MB/s eta 0:00:01                        | 1.5 MB 3.8 MB/s eta 0:00:03     |█████████████████               | 6.3 MB 3.8 MB/s eta 0:00:02     |████████████████████▎           | 7.6 MB 3.8 MB/s eta 0:00:02MB 3.8 MB/s eta 0:00:01.8 MB/s eta 0:00:01\n",
      "\u001b[?25hRequirement already satisfied: spacy>=2.2.2 in /srv/conda/envs/notebook/lib/python3.7/site-packages (from en_core_web_sm==2.2.5) (2.2.3)\n",
      "Requirement already satisfied: numpy>=1.15.0 in /srv/conda/envs/notebook/lib/python3.7/site-packages (from spacy>=2.2.2->en_core_web_sm==2.2.5) (1.18.5)\n",
      "Requirement already satisfied: blis<0.5.0,>=0.4.0 in /srv/conda/envs/notebook/lib/python3.7/site-packages (from spacy>=2.2.2->en_core_web_sm==2.2.5) (0.4.1)\n",
      "Requirement already satisfied: thinc<7.4.0,>=7.3.0 in /srv/conda/envs/notebook/lib/python3.7/site-packages (from spacy>=2.2.2->en_core_web_sm==2.2.5) (7.3.1)\n",
      "Requirement already satisfied: setuptools in /srv/conda/envs/notebook/lib/python3.7/site-packages (from spacy>=2.2.2->en_core_web_sm==2.2.5) (49.6.0.post20210108)\n",
      "Requirement already satisfied: plac<1.2.0,>=0.9.6 in /srv/conda/envs/notebook/lib/python3.7/site-packages (from spacy>=2.2.2->en_core_web_sm==2.2.5) (1.1.3)\n",
      "Requirement already satisfied: wasabi<1.1.0,>=0.4.0 in /srv/conda/envs/notebook/lib/python3.7/site-packages (from spacy>=2.2.2->en_core_web_sm==2.2.5) (0.8.2)\n",
      "Requirement already satisfied: preshed<3.1.0,>=3.0.2 in /srv/conda/envs/notebook/lib/python3.7/site-packages (from spacy>=2.2.2->en_core_web_sm==2.2.5) (3.0.5)\n",
      "Requirement already satisfied: requests<3.0.0,>=2.13.0 in /srv/conda/envs/notebook/lib/python3.7/site-packages (from spacy>=2.2.2->en_core_web_sm==2.2.5) (2.25.1)\n",
      "Requirement already satisfied: murmurhash<1.1.0,>=0.28.0 in /srv/conda/envs/notebook/lib/python3.7/site-packages (from spacy>=2.2.2->en_core_web_sm==2.2.5) (1.0.5)\n",
      "Requirement already satisfied: srsly<1.1.0,>=0.1.0 in /srv/conda/envs/notebook/lib/python3.7/site-packages (from spacy>=2.2.2->en_core_web_sm==2.2.5) (1.0.5)\n",
      "Requirement already satisfied: catalogue<1.1.0,>=0.0.7 in /srv/conda/envs/notebook/lib/python3.7/site-packages (from spacy>=2.2.2->en_core_web_sm==2.2.5) (1.0.0)\n",
      "Requirement already satisfied: cymem<2.1.0,>=2.0.2 in /srv/conda/envs/notebook/lib/python3.7/site-packages (from spacy>=2.2.2->en_core_web_sm==2.2.5) (2.0.5)\n",
      "Requirement already satisfied: importlib-metadata>=0.20 in /srv/conda/envs/notebook/lib/python3.7/site-packages (from catalogue<1.1.0,>=0.0.7->spacy>=2.2.2->en_core_web_sm==2.2.5) (3.4.0)\n",
      "Requirement already satisfied: zipp>=0.5 in /srv/conda/envs/notebook/lib/python3.7/site-packages (from importlib-metadata>=0.20->catalogue<1.1.0,>=0.0.7->spacy>=2.2.2->en_core_web_sm==2.2.5) (3.4.0)\n",
      "Requirement already satisfied: typing-extensions>=3.6.4 in /srv/conda/envs/notebook/lib/python3.7/site-packages (from importlib-metadata>=0.20->catalogue<1.1.0,>=0.0.7->spacy>=2.2.2->en_core_web_sm==2.2.5) (3.7.4.3)\n",
      "Requirement already satisfied: urllib3<1.27,>=1.21.1 in /srv/conda/envs/notebook/lib/python3.7/site-packages (from requests<3.0.0,>=2.13.0->spacy>=2.2.2->en_core_web_sm==2.2.5) (1.26.3)\n",
      "Requirement already satisfied: idna<3,>=2.5 in /srv/conda/envs/notebook/lib/python3.7/site-packages (from requests<3.0.0,>=2.13.0->spacy>=2.2.2->en_core_web_sm==2.2.5) (2.10)\n",
      "Requirement already satisfied: certifi>=2017.4.17 in /srv/conda/envs/notebook/lib/python3.7/site-packages (from requests<3.0.0,>=2.13.0->spacy>=2.2.2->en_core_web_sm==2.2.5) (2020.12.5)\n",
      "Requirement already satisfied: chardet<5,>=3.0.2 in /srv/conda/envs/notebook/lib/python3.7/site-packages (from requests<3.0.0,>=2.13.0->spacy>=2.2.2->en_core_web_sm==2.2.5) (4.0.0)\n",
      "Requirement already satisfied: tqdm<5.0.0,>=4.10.0 in /srv/conda/envs/notebook/lib/python3.7/site-packages (from thinc<7.4.0,>=7.3.0->spacy>=2.2.2->en_core_web_sm==2.2.5) (4.59.0)\n",
      "Building wheels for collected packages: en-core-web-sm\n",
      "  Building wheel for en-core-web-sm (setup.py) ... \u001b[?25ldone\n",
      "\u001b[?25h  Created wheel for en-core-web-sm: filename=en_core_web_sm-2.2.5-py3-none-any.whl size=12011738 sha256=8bf591f0d7181a981e0459f641658b67a2d6ee5cae59c4989b3d59e48e6e2df5\n",
      "  Stored in directory: /tmp/pip-ephem-wheel-cache-fkov3ffn/wheels/51/19/da/a3885266a3c241aff0ad2eb674ae058fd34a4870fef1c0a5a0\n",
      "Successfully built en-core-web-sm\n",
      "Installing collected packages: en-core-web-sm\n",
      "Successfully installed en-core-web-sm-2.2.5\n",
      "\u001b[38;5;2m✔ Download and installation successful\u001b[0m\n",
      "You can now load the model via spacy.load('en_core_web_sm')\n"
     ]
    }
   ],
   "source": [
    "!python -m spacy download en_core_web_sm"
   ]
  },
  {
   "cell_type": "code",
   "execution_count": 6,
   "id": "regulated-ambassador",
   "metadata": {},
   "outputs": [
    {
     "name": "stdout",
     "output_type": "stream",
     "text": [
      "Collecting spacy-langdetect\n",
      "  Downloading spacy_langdetect-0.1.2-py3-none-any.whl (5.0 kB)\n",
      "Collecting pytest\n",
      "  Downloading pytest-6.2.2-py3-none-any.whl (280 kB)\n",
      "\u001b[K     |████████████████████████████████| 280 kB 3.1 MB/s eta 0:00:01\n",
      "\u001b[?25hCollecting langdetect==1.0.7\n",
      "  Downloading langdetect-1.0.7.zip (998 kB)\n",
      "\u001b[K     |████████████████████████████████| 998 kB 6.3 MB/s eta 0:00:01\n",
      "\u001b[?25hRequirement already satisfied: six in /srv/conda/envs/notebook/lib/python3.7/site-packages (from langdetect==1.0.7->spacy-langdetect) (1.15.0)\n",
      "Requirement already satisfied: attrs>=19.2.0 in /srv/conda/envs/notebook/lib/python3.7/site-packages (from pytest->spacy-langdetect) (20.3.0)\n",
      "Collecting iniconfig\n",
      "  Downloading iniconfig-1.1.1-py2.py3-none-any.whl (5.0 kB)\n",
      "Collecting toml\n",
      "  Downloading toml-0.10.2-py2.py3-none-any.whl (16 kB)\n",
      "Collecting pluggy<1.0.0a1,>=0.12\n",
      "  Downloading pluggy-0.13.1-py2.py3-none-any.whl (18 kB)\n",
      "Requirement already satisfied: packaging in /srv/conda/envs/notebook/lib/python3.7/site-packages (from pytest->spacy-langdetect) (20.9)\n",
      "Requirement already satisfied: importlib-metadata>=0.12 in /srv/conda/envs/notebook/lib/python3.7/site-packages (from pytest->spacy-langdetect) (3.4.0)\n",
      "Collecting py>=1.8.2\n",
      "  Downloading py-1.10.0-py2.py3-none-any.whl (97 kB)\n",
      "\u001b[K     |████████████████████████████████| 97 kB 2.1 MB/s eta 0:00:01\n",
      "\u001b[?25hRequirement already satisfied: typing-extensions>=3.6.4 in /srv/conda/envs/notebook/lib/python3.7/site-packages (from importlib-metadata>=0.12->pytest->spacy-langdetect) (3.7.4.3)\n",
      "Requirement already satisfied: zipp>=0.5 in /srv/conda/envs/notebook/lib/python3.7/site-packages (from importlib-metadata>=0.12->pytest->spacy-langdetect) (3.4.0)\n",
      "Requirement already satisfied: pyparsing>=2.0.2 in /srv/conda/envs/notebook/lib/python3.7/site-packages (from packaging->pytest->spacy-langdetect) (2.4.7)\n",
      "Building wheels for collected packages: langdetect\n",
      "  Building wheel for langdetect (setup.py) ... \u001b[?25ldone\n",
      "\u001b[?25h  Created wheel for langdetect: filename=langdetect-1.0.7-py3-none-any.whl size=993461 sha256=83732ebf3bc13fe5992cd86ad4126df632c4d495fe21eb7984e960ba77a10924\n",
      "  Stored in directory: /home/jovyan/.cache/pip/wheels/89/79/3b/9885ae7f4308f73c514f96d8574d40d7d8173a27731b674013\n",
      "Successfully built langdetect\n",
      "Installing collected packages: toml, py, pluggy, iniconfig, pytest, langdetect, spacy-langdetect\n",
      "Successfully installed iniconfig-1.1.1 langdetect-1.0.7 pluggy-0.13.1 py-1.10.0 pytest-6.2.2 spacy-langdetect-0.1.2 toml-0.10.2\n"
     ]
    }
   ],
   "source": [
    "!pip install spacy-langdetect"
   ]
  },
  {
   "cell_type": "code",
   "execution_count": 7,
   "id": "approved-ticket",
   "metadata": {},
   "outputs": [
    {
     "name": "stdout",
     "output_type": "stream",
     "text": [
      "Collecting spacy-readability\n",
      "  Downloading spacy_readability-1.4.1-py3-none-any.whl (49 kB)\n",
      "\u001b[K     |████████████████████████████████| 49 kB 2.5 MB/s eta 0:00:011\n",
      "\u001b[?25hCollecting syllapy<1,>=0\n",
      "  Downloading syllapy-0.7.1-py3-none-any.whl (27 kB)\n",
      "Requirement already satisfied: spacy<3.0,>=2.0 in /srv/conda/envs/notebook/lib/python3.7/site-packages (from spacy-readability) (2.2.3)\n",
      "Requirement already satisfied: murmurhash<1.1.0,>=0.28.0 in /srv/conda/envs/notebook/lib/python3.7/site-packages (from spacy<3.0,>=2.0->spacy-readability) (1.0.5)\n",
      "Requirement already satisfied: catalogue<1.1.0,>=0.0.7 in /srv/conda/envs/notebook/lib/python3.7/site-packages (from spacy<3.0,>=2.0->spacy-readability) (1.0.0)\n",
      "Requirement already satisfied: thinc<7.4.0,>=7.3.0 in /srv/conda/envs/notebook/lib/python3.7/site-packages (from spacy<3.0,>=2.0->spacy-readability) (7.3.1)\n",
      "Requirement already satisfied: numpy>=1.15.0 in /srv/conda/envs/notebook/lib/python3.7/site-packages (from spacy<3.0,>=2.0->spacy-readability) (1.18.5)\n",
      "Requirement already satisfied: wasabi<1.1.0,>=0.4.0 in /srv/conda/envs/notebook/lib/python3.7/site-packages (from spacy<3.0,>=2.0->spacy-readability) (0.8.2)\n",
      "Requirement already satisfied: blis<0.5.0,>=0.4.0 in /srv/conda/envs/notebook/lib/python3.7/site-packages (from spacy<3.0,>=2.0->spacy-readability) (0.4.1)\n",
      "Requirement already satisfied: srsly<1.1.0,>=0.1.0 in /srv/conda/envs/notebook/lib/python3.7/site-packages (from spacy<3.0,>=2.0->spacy-readability) (1.0.5)\n",
      "Requirement already satisfied: setuptools in /srv/conda/envs/notebook/lib/python3.7/site-packages (from spacy<3.0,>=2.0->spacy-readability) (49.6.0.post20210108)\n",
      "Requirement already satisfied: cymem<2.1.0,>=2.0.2 in /srv/conda/envs/notebook/lib/python3.7/site-packages (from spacy<3.0,>=2.0->spacy-readability) (2.0.5)\n",
      "Requirement already satisfied: requests<3.0.0,>=2.13.0 in /srv/conda/envs/notebook/lib/python3.7/site-packages (from spacy<3.0,>=2.0->spacy-readability) (2.25.1)\n",
      "Requirement already satisfied: plac<1.2.0,>=0.9.6 in /srv/conda/envs/notebook/lib/python3.7/site-packages (from spacy<3.0,>=2.0->spacy-readability) (1.1.3)\n",
      "Requirement already satisfied: preshed<3.1.0,>=3.0.2 in /srv/conda/envs/notebook/lib/python3.7/site-packages (from spacy<3.0,>=2.0->spacy-readability) (3.0.5)\n",
      "Requirement already satisfied: importlib-metadata>=0.20 in /srv/conda/envs/notebook/lib/python3.7/site-packages (from catalogue<1.1.0,>=0.0.7->spacy<3.0,>=2.0->spacy-readability) (3.4.0)\n",
      "Requirement already satisfied: typing-extensions>=3.6.4 in /srv/conda/envs/notebook/lib/python3.7/site-packages (from importlib-metadata>=0.20->catalogue<1.1.0,>=0.0.7->spacy<3.0,>=2.0->spacy-readability) (3.7.4.3)\n",
      "Requirement already satisfied: zipp>=0.5 in /srv/conda/envs/notebook/lib/python3.7/site-packages (from importlib-metadata>=0.20->catalogue<1.1.0,>=0.0.7->spacy<3.0,>=2.0->spacy-readability) (3.4.0)\n",
      "Requirement already satisfied: chardet<5,>=3.0.2 in /srv/conda/envs/notebook/lib/python3.7/site-packages (from requests<3.0.0,>=2.13.0->spacy<3.0,>=2.0->spacy-readability) (4.0.0)\n",
      "Requirement already satisfied: urllib3<1.27,>=1.21.1 in /srv/conda/envs/notebook/lib/python3.7/site-packages (from requests<3.0.0,>=2.13.0->spacy<3.0,>=2.0->spacy-readability) (1.26.3)\n",
      "Requirement already satisfied: idna<3,>=2.5 in /srv/conda/envs/notebook/lib/python3.7/site-packages (from requests<3.0.0,>=2.13.0->spacy<3.0,>=2.0->spacy-readability) (2.10)\n",
      "Requirement already satisfied: certifi>=2017.4.17 in /srv/conda/envs/notebook/lib/python3.7/site-packages (from requests<3.0.0,>=2.13.0->spacy<3.0,>=2.0->spacy-readability) (2020.12.5)\n",
      "Collecting ujson<2.0,>=1.35\n",
      "  Downloading ujson-1.35.tar.gz (192 kB)\n",
      "\u001b[K     |████████████████████████████████| 192 kB 3.5 MB/s eta 0:00:01\n",
      "\u001b[?25hRequirement already satisfied: tqdm<5.0.0,>=4.10.0 in /srv/conda/envs/notebook/lib/python3.7/site-packages (from thinc<7.4.0,>=7.3.0->spacy<3.0,>=2.0->spacy-readability) (4.59.0)\n",
      "Building wheels for collected packages: ujson\n",
      "  Building wheel for ujson (setup.py) ... \u001b[?25ldone\n",
      "\u001b[?25h  Created wheel for ujson: filename=ujson-1.35-cp37-cp37m-linux_x86_64.whl size=69611 sha256=b715fd165d85c63818d17ec9b9cb487c7107674696a1248a76cb03e65aada8a0\n",
      "  Stored in directory: /home/jovyan/.cache/pip/wheels/55/e8/7e/e36b183f3e654b73fc04eb1b656ad3c2773077dd531cb35c4d\n",
      "Successfully built ujson\n",
      "Installing collected packages: ujson, syllapy, spacy-readability\n",
      "Successfully installed spacy-readability-1.4.1 syllapy-0.7.1 ujson-1.35\n"
     ]
    }
   ],
   "source": [
    "!pip install spacy-readability"
   ]
  },
  {
   "cell_type": "code",
   "execution_count": null,
   "id": "operating-desert",
   "metadata": {},
   "outputs": [],
   "source": []
  },
  {
   "cell_type": "code",
   "execution_count": 16,
   "id": "original-advance",
   "metadata": {},
   "outputs": [],
   "source": [
    "import spacy\n",
    "from spacy import displacy\n",
    "from spacy_readability import Readability"
   ]
  },
  {
   "cell_type": "code",
   "execution_count": 9,
   "id": "suspended-organization",
   "metadata": {},
   "outputs": [],
   "source": [
    "# Create the nlp object\n",
    "nlp = spacy.load(\"en_core_web_sm\")"
   ]
  },
  {
   "cell_type": "code",
   "execution_count": null,
   "id": "crude-starter",
   "metadata": {},
   "outputs": [],
   "source": []
  },
  {
   "cell_type": "code",
   "execution_count": 19,
   "id": "judicial-passing",
   "metadata": {},
   "outputs": [],
   "source": [
    "donaldTrumpData1=pd.read_csv('../data/realdonaldtrump1.csv')\n",
    "donaldTrumpData2=pd.read_csv('../data/realdonaldtrump2.csv')"
   ]
  },
  {
   "cell_type": "code",
   "execution_count": null,
   "id": "attempted-baghdad",
   "metadata": {},
   "outputs": [],
   "source": []
  },
  {
   "cell_type": "code",
   "execution_count": 28,
   "id": "dying-division",
   "metadata": {},
   "outputs": [],
   "source": [
    "TrumpTweets=pd.read_csv('../data/realdonaldtrump.csv')"
   ]
  },
  {
   "cell_type": "code",
   "execution_count": null,
   "id": "quality-context",
   "metadata": {},
   "outputs": [],
   "source": []
  },
  {
   "cell_type": "markdown",
   "id": "confidential-desktop",
   "metadata": {},
   "source": [
    "## Question 1. Merge the two dataframes donaldTrumpData1 and donaldTrumpData2 into a single dataframe"
   ]
  },
  {
   "cell_type": "code",
   "execution_count": null,
   "id": "norman-muscle",
   "metadata": {},
   "outputs": [],
   "source": []
  },
  {
   "cell_type": "code",
   "execution_count": 20,
   "id": "speaking-repeat",
   "metadata": {},
   "outputs": [],
   "source": [
    "donaldTrumpData=donaldTrumpData1.merge(donaldTrumpData2, left_on='id', right_on='id')"
   ]
  },
  {
   "cell_type": "code",
   "execution_count": 21,
   "id": "likely-journey",
   "metadata": {},
   "outputs": [
    {
     "data": {
      "text/html": [
       "<div>\n",
       "<style scoped>\n",
       "    .dataframe tbody tr th:only-of-type {\n",
       "        vertical-align: middle;\n",
       "    }\n",
       "\n",
       "    .dataframe tbody tr th {\n",
       "        vertical-align: top;\n",
       "    }\n",
       "\n",
       "    .dataframe thead th {\n",
       "        text-align: right;\n",
       "    }\n",
       "</style>\n",
       "<table border=\"1\" class=\"dataframe\">\n",
       "  <thead>\n",
       "    <tr style=\"text-align: right;\">\n",
       "      <th></th>\n",
       "      <th>Unnamed: 0_x</th>\n",
       "      <th>id</th>\n",
       "      <th>link</th>\n",
       "      <th>content</th>\n",
       "      <th>Unnamed: 0_y</th>\n",
       "      <th>date</th>\n",
       "      <th>retweets</th>\n",
       "      <th>favorites</th>\n",
       "      <th>mentions</th>\n",
       "      <th>hashtags</th>\n",
       "    </tr>\n",
       "  </thead>\n",
       "  <tbody>\n",
       "    <tr>\n",
       "      <th>0</th>\n",
       "      <td>0</td>\n",
       "      <td>1698308935</td>\n",
       "      <td>https://twitter.com/realDonaldTrump/status/169...</td>\n",
       "      <td>Be sure to tune in and watch Donald Trump on L...</td>\n",
       "      <td>0</td>\n",
       "      <td>2009-05-04 13:54:25</td>\n",
       "      <td>510</td>\n",
       "      <td>917</td>\n",
       "      <td>NaN</td>\n",
       "      <td>NaN</td>\n",
       "    </tr>\n",
       "    <tr>\n",
       "      <th>1</th>\n",
       "      <td>1</td>\n",
       "      <td>1701461182</td>\n",
       "      <td>https://twitter.com/realDonaldTrump/status/170...</td>\n",
       "      <td>Donald Trump will be appearing on The View tom...</td>\n",
       "      <td>1</td>\n",
       "      <td>2009-05-04 20:00:10</td>\n",
       "      <td>34</td>\n",
       "      <td>267</td>\n",
       "      <td>NaN</td>\n",
       "      <td>NaN</td>\n",
       "    </tr>\n",
       "    <tr>\n",
       "      <th>2</th>\n",
       "      <td>2</td>\n",
       "      <td>1737479987</td>\n",
       "      <td>https://twitter.com/realDonaldTrump/status/173...</td>\n",
       "      <td>Donald Trump reads Top Ten Financial Tips on L...</td>\n",
       "      <td>2</td>\n",
       "      <td>2009-05-08 08:38:08</td>\n",
       "      <td>13</td>\n",
       "      <td>19</td>\n",
       "      <td>NaN</td>\n",
       "      <td>NaN</td>\n",
       "    </tr>\n",
       "    <tr>\n",
       "      <th>3</th>\n",
       "      <td>3</td>\n",
       "      <td>1741160716</td>\n",
       "      <td>https://twitter.com/realDonaldTrump/status/174...</td>\n",
       "      <td>New Blog Post: Celebrity Apprentice Finale and...</td>\n",
       "      <td>3</td>\n",
       "      <td>2009-05-08 15:40:15</td>\n",
       "      <td>11</td>\n",
       "      <td>26</td>\n",
       "      <td>NaN</td>\n",
       "      <td>NaN</td>\n",
       "    </tr>\n",
       "    <tr>\n",
       "      <th>4</th>\n",
       "      <td>4</td>\n",
       "      <td>1773561338</td>\n",
       "      <td>https://twitter.com/realDonaldTrump/status/177...</td>\n",
       "      <td>\"My persona will never be that of a wallflower...</td>\n",
       "      <td>4</td>\n",
       "      <td>2009-05-12 09:07:28</td>\n",
       "      <td>1375</td>\n",
       "      <td>1945</td>\n",
       "      <td>NaN</td>\n",
       "      <td>NaN</td>\n",
       "    </tr>\n",
       "    <tr>\n",
       "      <th>...</th>\n",
       "      <td>...</td>\n",
       "      <td>...</td>\n",
       "      <td>...</td>\n",
       "      <td>...</td>\n",
       "      <td>...</td>\n",
       "      <td>...</td>\n",
       "      <td>...</td>\n",
       "      <td>...</td>\n",
       "      <td>...</td>\n",
       "      <td>...</td>\n",
       "    </tr>\n",
       "    <tr>\n",
       "      <th>43347</th>\n",
       "      <td>43347</td>\n",
       "      <td>1273405198698975232</td>\n",
       "      <td>https://twitter.com/realDonaldTrump/status/127...</td>\n",
       "      <td>Joe Biden was a TOTAL FAILURE in Government. H...</td>\n",
       "      <td>43347</td>\n",
       "      <td>2020-06-17 19:00:32</td>\n",
       "      <td>23402</td>\n",
       "      <td>116377</td>\n",
       "      <td>NaN</td>\n",
       "      <td>NaN</td>\n",
       "    </tr>\n",
       "    <tr>\n",
       "      <th>43348</th>\n",
       "      <td>43348</td>\n",
       "      <td>1273408026968457216</td>\n",
       "      <td>https://twitter.com/realDonaldTrump/status/127...</td>\n",
       "      <td>Will be interviewed on @ seanhannity tonight a...</td>\n",
       "      <td>43348</td>\n",
       "      <td>2020-06-17 19:11:47</td>\n",
       "      <td>11810</td>\n",
       "      <td>56659</td>\n",
       "      <td>@seanhannity</td>\n",
       "      <td>NaN</td>\n",
       "    </tr>\n",
       "    <tr>\n",
       "      <th>43349</th>\n",
       "      <td>43349</td>\n",
       "      <td>1273442195161387008</td>\n",
       "      <td>https://twitter.com/realDonaldTrump/status/127...</td>\n",
       "      <td>pic.twitter.com/3lm1spbU8X</td>\n",
       "      <td>43349</td>\n",
       "      <td>2020-06-17 21:27:33</td>\n",
       "      <td>4959</td>\n",
       "      <td>19344</td>\n",
       "      <td>NaN</td>\n",
       "      <td>NaN</td>\n",
       "    </tr>\n",
       "    <tr>\n",
       "      <th>43350</th>\n",
       "      <td>43350</td>\n",
       "      <td>1273442469066276864</td>\n",
       "      <td>https://twitter.com/realDonaldTrump/status/127...</td>\n",
       "      <td>pic.twitter.com/vpCE5MadUz</td>\n",
       "      <td>43350</td>\n",
       "      <td>2020-06-17 21:28:38</td>\n",
       "      <td>4627</td>\n",
       "      <td>17022</td>\n",
       "      <td>NaN</td>\n",
       "      <td>NaN</td>\n",
       "    </tr>\n",
       "    <tr>\n",
       "      <th>43351</th>\n",
       "      <td>43351</td>\n",
       "      <td>1273442528411385858</td>\n",
       "      <td>https://twitter.com/realDonaldTrump/status/127...</td>\n",
       "      <td>pic.twitter.com/VLlc0BHW41</td>\n",
       "      <td>43351</td>\n",
       "      <td>2020-06-17 21:28:52</td>\n",
       "      <td>3951</td>\n",
       "      <td>14344</td>\n",
       "      <td>NaN</td>\n",
       "      <td>NaN</td>\n",
       "    </tr>\n",
       "  </tbody>\n",
       "</table>\n",
       "<p>43352 rows × 10 columns</p>\n",
       "</div>"
      ],
      "text/plain": [
       "       Unnamed: 0_x                   id  \\\n",
       "0                 0           1698308935   \n",
       "1                 1           1701461182   \n",
       "2                 2           1737479987   \n",
       "3                 3           1741160716   \n",
       "4                 4           1773561338   \n",
       "...             ...                  ...   \n",
       "43347         43347  1273405198698975232   \n",
       "43348         43348  1273408026968457216   \n",
       "43349         43349  1273442195161387008   \n",
       "43350         43350  1273442469066276864   \n",
       "43351         43351  1273442528411385858   \n",
       "\n",
       "                                                    link  \\\n",
       "0      https://twitter.com/realDonaldTrump/status/169...   \n",
       "1      https://twitter.com/realDonaldTrump/status/170...   \n",
       "2      https://twitter.com/realDonaldTrump/status/173...   \n",
       "3      https://twitter.com/realDonaldTrump/status/174...   \n",
       "4      https://twitter.com/realDonaldTrump/status/177...   \n",
       "...                                                  ...   \n",
       "43347  https://twitter.com/realDonaldTrump/status/127...   \n",
       "43348  https://twitter.com/realDonaldTrump/status/127...   \n",
       "43349  https://twitter.com/realDonaldTrump/status/127...   \n",
       "43350  https://twitter.com/realDonaldTrump/status/127...   \n",
       "43351  https://twitter.com/realDonaldTrump/status/127...   \n",
       "\n",
       "                                                 content  Unnamed: 0_y  \\\n",
       "0      Be sure to tune in and watch Donald Trump on L...             0   \n",
       "1      Donald Trump will be appearing on The View tom...             1   \n",
       "2      Donald Trump reads Top Ten Financial Tips on L...             2   \n",
       "3      New Blog Post: Celebrity Apprentice Finale and...             3   \n",
       "4      \"My persona will never be that of a wallflower...             4   \n",
       "...                                                  ...           ...   \n",
       "43347  Joe Biden was a TOTAL FAILURE in Government. H...         43347   \n",
       "43348  Will be interviewed on @ seanhannity tonight a...         43348   \n",
       "43349                         pic.twitter.com/3lm1spbU8X         43349   \n",
       "43350                         pic.twitter.com/vpCE5MadUz         43350   \n",
       "43351                         pic.twitter.com/VLlc0BHW41         43351   \n",
       "\n",
       "                      date  retweets  favorites      mentions hashtags  \n",
       "0      2009-05-04 13:54:25       510        917           NaN      NaN  \n",
       "1      2009-05-04 20:00:10        34        267           NaN      NaN  \n",
       "2      2009-05-08 08:38:08        13         19           NaN      NaN  \n",
       "3      2009-05-08 15:40:15        11         26           NaN      NaN  \n",
       "4      2009-05-12 09:07:28      1375       1945           NaN      NaN  \n",
       "...                    ...       ...        ...           ...      ...  \n",
       "43347  2020-06-17 19:00:32     23402     116377           NaN      NaN  \n",
       "43348  2020-06-17 19:11:47     11810      56659  @seanhannity      NaN  \n",
       "43349  2020-06-17 21:27:33      4959      19344           NaN      NaN  \n",
       "43350  2020-06-17 21:28:38      4627      17022           NaN      NaN  \n",
       "43351  2020-06-17 21:28:52      3951      14344           NaN      NaN  \n",
       "\n",
       "[43352 rows x 10 columns]"
      ]
     },
     "execution_count": 21,
     "metadata": {},
     "output_type": "execute_result"
    }
   ],
   "source": [
    "donaldTrumpData"
   ]
  },
  {
   "cell_type": "code",
   "execution_count": null,
   "id": "assisted-explanation",
   "metadata": {},
   "outputs": [],
   "source": []
  },
  {
   "cell_type": "code",
   "execution_count": null,
   "id": "backed-johnson",
   "metadata": {},
   "outputs": [],
   "source": []
  },
  {
   "cell_type": "markdown",
   "id": "hired-detroit",
   "metadata": {},
   "source": [
    "## Question 2. Define a function that takes an argument and returns the floor of x, the largest integer less than or equal to x. (https://docs.python.org/3/library/math.html)\n"
   ]
  },
  {
   "cell_type": "code",
   "execution_count": 20,
   "id": "breeding-identity",
   "metadata": {},
   "outputs": [
    {
     "data": {
      "text/plain": [
       "-6"
      ]
     },
     "execution_count": 20,
     "metadata": {},
     "output_type": "execute_result"
    }
   ],
   "source": [
    "math.floor(-5.6)"
   ]
  },
  {
   "cell_type": "code",
   "execution_count": 21,
   "id": "polyphonic-prayer",
   "metadata": {},
   "outputs": [],
   "source": [
    "def my_floor_function(x):\n",
    "    floored= math.floor(x)\n",
    "    \n",
    "    return floored"
   ]
  },
  {
   "cell_type": "code",
   "execution_count": 22,
   "id": "indirect-imaging",
   "metadata": {},
   "outputs": [
    {
     "data": {
      "text/plain": [
       "6"
      ]
     },
     "execution_count": 22,
     "metadata": {},
     "output_type": "execute_result"
    }
   ],
   "source": [
    "my_floor_function(6.4)"
   ]
  },
  {
   "cell_type": "code",
   "execution_count": null,
   "id": "occupational-viking",
   "metadata": {},
   "outputs": [],
   "source": []
  },
  {
   "cell_type": "markdown",
   "id": "controlling-supplement",
   "metadata": {},
   "source": [
    "## Question 3. Make the previous function robust to exceptions raised by inputs of type \"string\"\n",
    "### Tip. refer to lab 9.2"
   ]
  },
  {
   "cell_type": "code",
   "execution_count": 23,
   "id": "coupled-generator",
   "metadata": {},
   "outputs": [],
   "source": [
    "def my_floor_function(x):\n",
    "    \n",
    "    \n",
    "    try:\n",
    "        result=math.floor(x)\n",
    "    \n",
    "    except TypeError:\n",
    "        print('I only like  numbers')\n",
    "    \n",
    "    else:\n",
    "        print('no problems so far, here is the result:')\n",
    "        print(result)"
   ]
  },
  {
   "cell_type": "code",
   "execution_count": 24,
   "id": "extreme-train",
   "metadata": {},
   "outputs": [
    {
     "name": "stdout",
     "output_type": "stream",
     "text": [
      "I only like  numbers\n"
     ]
    }
   ],
   "source": [
    "my_floor_function('gdfg')"
   ]
  },
  {
   "cell_type": "code",
   "execution_count": null,
   "id": "found-forestry",
   "metadata": {},
   "outputs": [],
   "source": []
  },
  {
   "cell_type": "markdown",
   "id": "better-orientation",
   "metadata": {},
   "source": [
    "## Question 4. Implement a lambda function to compute the hexadecimal value to the column \"retweets\" in the dataframe TrumpTweets\n",
    "\n",
    "### Tip: Refer to lab 8.1 (apply lambda functions)\n",
    "### Tip: Refer to the hex function https://www.w3schools.com/python/ref_func_hex.asp"
   ]
  },
  {
   "cell_type": "code",
   "execution_count": null,
   "id": "black-astrology",
   "metadata": {},
   "outputs": [],
   "source": []
  },
  {
   "cell_type": "code",
   "execution_count": 38,
   "id": "backed-assembly",
   "metadata": {},
   "outputs": [
    {
     "data": {
      "text/plain": [
       "0         0x1fe\n",
       "1          0x22\n",
       "2           0xd\n",
       "3           0xb\n",
       "4         0x55f\n",
       "          ...  \n",
       "43347    0x5b6a\n",
       "43348    0x2e22\n",
       "43349    0x135f\n",
       "43350    0x1213\n",
       "43351     0xf6f\n",
       "Name: retweets, Length: 43352, dtype: object"
      ]
     },
     "execution_count": 38,
     "metadata": {},
     "output_type": "execute_result"
    }
   ],
   "source": [
    "TrumpTweets['retweets'].apply(lambda value:hex(value))"
   ]
  },
  {
   "cell_type": "code",
   "execution_count": null,
   "id": "stock-average",
   "metadata": {},
   "outputs": [],
   "source": []
  },
  {
   "cell_type": "code",
   "execution_count": null,
   "id": "prompt-powder",
   "metadata": {},
   "outputs": [],
   "source": []
  },
  {
   "cell_type": "markdown",
   "id": "geological-covering",
   "metadata": {},
   "source": [
    "## Question 5. Select all rows containing @ from the column content in the dataframe TrumpTweets"
   ]
  },
  {
   "cell_type": "markdown",
   "id": "light-reservation",
   "metadata": {},
   "source": [
    "\n",
    "### Refer to lab 7.1 for an example on how to apply regex to a dataframe\n",
    "### Refer to the following link for information on how to extract @:  https://stackoverflow.com/questions/37807244/python-to-extract-the-user-and-url-link-in-twitter-text-data-with-regex\n"
   ]
  },
  {
   "cell_type": "code",
   "execution_count": null,
   "id": "future-model",
   "metadata": {},
   "outputs": [],
   "source": []
  },
  {
   "cell_type": "code",
   "execution_count": null,
   "id": "alternative-status",
   "metadata": {},
   "outputs": [],
   "source": []
  },
  {
   "cell_type": "code",
   "execution_count": null,
   "id": "realistic-python",
   "metadata": {},
   "outputs": [],
   "source": []
  },
  {
   "cell_type": "code",
   "execution_count": 29,
   "id": "growing-motivation",
   "metadata": {},
   "outputs": [],
   "source": [
    "## This is a regex pattern that matches @s\n",
    "pattern_ats = '@([\\w]+)'"
   ]
  },
  {
   "cell_type": "code",
   "execution_count": 30,
   "id": "jewish-commonwealth",
   "metadata": {},
   "outputs": [
    {
     "name": "stderr",
     "output_type": "stream",
     "text": [
      "/srv/conda/envs/notebook/lib/python3.7/site-packages/pandas/core/strings.py:1954: UserWarning: This pattern has match groups. To actually get the groups, use str.extract.\n",
      "  return func(self, *args, **kwargs)\n"
     ]
    },
    {
     "data": {
      "text/html": [
       "<div>\n",
       "<style scoped>\n",
       "    .dataframe tbody tr th:only-of-type {\n",
       "        vertical-align: middle;\n",
       "    }\n",
       "\n",
       "    .dataframe tbody tr th {\n",
       "        vertical-align: top;\n",
       "    }\n",
       "\n",
       "    .dataframe thead th {\n",
       "        text-align: right;\n",
       "    }\n",
       "</style>\n",
       "<table border=\"1\" class=\"dataframe\">\n",
       "  <thead>\n",
       "    <tr style=\"text-align: right;\">\n",
       "      <th></th>\n",
       "      <th>id</th>\n",
       "      <th>link</th>\n",
       "      <th>content</th>\n",
       "      <th>date</th>\n",
       "      <th>retweets</th>\n",
       "      <th>favorites</th>\n",
       "      <th>mentions</th>\n",
       "      <th>hashtags</th>\n",
       "    </tr>\n",
       "  </thead>\n",
       "  <tbody>\n",
       "    <tr>\n",
       "      <th>41</th>\n",
       "      <td>3450626731</td>\n",
       "      <td>https://twitter.com/realDonaldTrump/status/345...</td>\n",
       "      <td>Watch the Miss Universe competition LIVE from ...</td>\n",
       "      <td>2009-08-21 09:32:45</td>\n",
       "      <td>14</td>\n",
       "      <td>5</td>\n",
       "      <td>@9pm</td>\n",
       "      <td>NaN</td>\n",
       "    </tr>\n",
       "    <tr>\n",
       "      <th>42</th>\n",
       "      <td>3498743628</td>\n",
       "      <td>https://twitter.com/realDonaldTrump/status/349...</td>\n",
       "      <td>Reminder: The Miss Universe competition will b...</td>\n",
       "      <td>2009-08-23 16:12:37</td>\n",
       "      <td>10</td>\n",
       "      <td>12</td>\n",
       "      <td>@9pm</td>\n",
       "      <td>NaN</td>\n",
       "    </tr>\n",
       "    <tr>\n",
       "      <th>59</th>\n",
       "      <td>8083871612</td>\n",
       "      <td>https://twitter.com/realDonaldTrump/status/808...</td>\n",
       "      <td>Golf Channel &amp; Donald Trump's World of Golf ho...</td>\n",
       "      <td>2010-01-22 14:51:00</td>\n",
       "      <td>19</td>\n",
       "      <td>5</td>\n",
       "      <td>@TNGC</td>\n",
       "      <td>NaN</td>\n",
       "    </tr>\n",
       "    <tr>\n",
       "      <th>64</th>\n",
       "      <td>10027087487</td>\n",
       "      <td>https://twitter.com/realDonaldTrump/status/100...</td>\n",
       "      <td>From Donald Trump: Andrea Bocelli @Mar-a-Lago ...</td>\n",
       "      <td>2010-03-05 08:51:32</td>\n",
       "      <td>11</td>\n",
       "      <td>10</td>\n",
       "      <td>@Mar</td>\n",
       "      <td>NaN</td>\n",
       "    </tr>\n",
       "    <tr>\n",
       "      <th>272</th>\n",
       "      <td>58602133947297792</td>\n",
       "      <td>https://twitter.com/realDonaldTrump/status/586...</td>\n",
       "      <td>Catch my interview on the @hannityshow tonight...</td>\n",
       "      <td>2011-04-14 13:46:52</td>\n",
       "      <td>93</td>\n",
       "      <td>18</td>\n",
       "      <td>@hannityshow,@foxnews</td>\n",
       "      <td>NaN</td>\n",
       "    </tr>\n",
       "    <tr>\n",
       "      <th>...</th>\n",
       "      <td>...</td>\n",
       "      <td>...</td>\n",
       "      <td>...</td>\n",
       "      <td>...</td>\n",
       "      <td>...</td>\n",
       "      <td>...</td>\n",
       "      <td>...</td>\n",
       "      <td>...</td>\n",
       "    </tr>\n",
       "    <tr>\n",
       "      <th>39542</th>\n",
       "      <td>1179863468582719488</td>\n",
       "      <td>https://twitter.com/realDonaldTrump/status/117...</td>\n",
       "      <td>Thank you @JennaEllisRives, really well done!h...</td>\n",
       "      <td>2019-10-03 15:59:06</td>\n",
       "      <td>11929</td>\n",
       "      <td>39799</td>\n",
       "      <td>@JennaEllisRives</td>\n",
       "      <td>NaN</td>\n",
       "    </tr>\n",
       "    <tr>\n",
       "      <th>40281</th>\n",
       "      <td>1194946652223746048</td>\n",
       "      <td>https://twitter.com/realDonaldTrump/status/119...</td>\n",
       "      <td>.@RepRatcliffe asked the two “star” witnesses,...</td>\n",
       "      <td>2019-11-14 05:54:17</td>\n",
       "      <td>23111</td>\n",
       "      <td>84963</td>\n",
       "      <td>NaN</td>\n",
       "      <td>NaN</td>\n",
       "    </tr>\n",
       "    <tr>\n",
       "      <th>41675</th>\n",
       "      <td>1233518334282489861</td>\n",
       "      <td>https://twitter.com/realDonaldTrump/status/123...</td>\n",
       "      <td>I am pleased to announce the nomination of @Re...</td>\n",
       "      <td>2020-02-28 16:24:23</td>\n",
       "      <td>25358</td>\n",
       "      <td>93537</td>\n",
       "      <td>@RepRatcliffe</td>\n",
       "      <td>NaN</td>\n",
       "    </tr>\n",
       "    <tr>\n",
       "      <th>41700</th>\n",
       "      <td>1234222094210211846</td>\n",
       "      <td>https://twitter.com/realDonaldTrump/status/123...</td>\n",
       "      <td>“Who better than @RepRatcliffe, who got to the...</td>\n",
       "      <td>2020-03-01 15:00:52</td>\n",
       "      <td>14621</td>\n",
       "      <td>53505</td>\n",
       "      <td>@RepRatcliffe,@DevinNunes,@MariaBartiromo</td>\n",
       "      <td>NaN</td>\n",
       "    </tr>\n",
       "    <tr>\n",
       "      <th>42247</th>\n",
       "      <td>1249370410422095872</td>\n",
       "      <td>https://twitter.com/realDonaldTrump/status/124...</td>\n",
       "      <td>Great businessman &amp; philanthropist Bernie Marc...</td>\n",
       "      <td>2020-04-12 11:14:52</td>\n",
       "      <td>30942</td>\n",
       "      <td>142235</td>\n",
       "      <td>NaN</td>\n",
       "      <td>NaN</td>\n",
       "    </tr>\n",
       "  </tbody>\n",
       "</table>\n",
       "<p>3247 rows × 8 columns</p>\n",
       "</div>"
      ],
      "text/plain": [
       "                        id                                               link  \\\n",
       "41              3450626731  https://twitter.com/realDonaldTrump/status/345...   \n",
       "42              3498743628  https://twitter.com/realDonaldTrump/status/349...   \n",
       "59              8083871612  https://twitter.com/realDonaldTrump/status/808...   \n",
       "64             10027087487  https://twitter.com/realDonaldTrump/status/100...   \n",
       "272      58602133947297792  https://twitter.com/realDonaldTrump/status/586...   \n",
       "...                    ...                                                ...   \n",
       "39542  1179863468582719488  https://twitter.com/realDonaldTrump/status/117...   \n",
       "40281  1194946652223746048  https://twitter.com/realDonaldTrump/status/119...   \n",
       "41675  1233518334282489861  https://twitter.com/realDonaldTrump/status/123...   \n",
       "41700  1234222094210211846  https://twitter.com/realDonaldTrump/status/123...   \n",
       "42247  1249370410422095872  https://twitter.com/realDonaldTrump/status/124...   \n",
       "\n",
       "                                                 content                 date  \\\n",
       "41     Watch the Miss Universe competition LIVE from ...  2009-08-21 09:32:45   \n",
       "42     Reminder: The Miss Universe competition will b...  2009-08-23 16:12:37   \n",
       "59     Golf Channel & Donald Trump's World of Golf ho...  2010-01-22 14:51:00   \n",
       "64     From Donald Trump: Andrea Bocelli @Mar-a-Lago ...  2010-03-05 08:51:32   \n",
       "272    Catch my interview on the @hannityshow tonight...  2011-04-14 13:46:52   \n",
       "...                                                  ...                  ...   \n",
       "39542  Thank you @JennaEllisRives, really well done!h...  2019-10-03 15:59:06   \n",
       "40281  .@RepRatcliffe asked the two “star” witnesses,...  2019-11-14 05:54:17   \n",
       "41675  I am pleased to announce the nomination of @Re...  2020-02-28 16:24:23   \n",
       "41700  “Who better than @RepRatcliffe, who got to the...  2020-03-01 15:00:52   \n",
       "42247  Great businessman & philanthropist Bernie Marc...  2020-04-12 11:14:52   \n",
       "\n",
       "       retweets  favorites                                   mentions hashtags  \n",
       "41           14          5                                       @9pm      NaN  \n",
       "42           10         12                                       @9pm      NaN  \n",
       "59           19          5                                      @TNGC      NaN  \n",
       "64           11         10                                       @Mar      NaN  \n",
       "272          93         18                      @hannityshow,@foxnews      NaN  \n",
       "...         ...        ...                                        ...      ...  \n",
       "39542     11929      39799                           @JennaEllisRives      NaN  \n",
       "40281     23111      84963                                        NaN      NaN  \n",
       "41675     25358      93537                              @RepRatcliffe      NaN  \n",
       "41700     14621      53505  @RepRatcliffe,@DevinNunes,@MariaBartiromo      NaN  \n",
       "42247     30942     142235                                        NaN      NaN  \n",
       "\n",
       "[3247 rows x 8 columns]"
      ]
     },
     "execution_count": 30,
     "metadata": {},
     "output_type": "execute_result"
    }
   ],
   "source": [
    "TrumpTweets[TrumpTweets['content'].str.contains('@([\\w]+)', regex=True)]"
   ]
  },
  {
   "cell_type": "code",
   "execution_count": null,
   "id": "becoming-injury",
   "metadata": {},
   "outputs": [],
   "source": []
  },
  {
   "cell_type": "code",
   "execution_count": null,
   "id": "confused-compilation",
   "metadata": {},
   "outputs": [],
   "source": []
  }
 ],
 "metadata": {
  "kernelspec": {
   "display_name": "Python 3",
   "language": "python",
   "name": "python3"
  },
  "language_info": {
   "codemirror_mode": {
    "name": "ipython",
    "version": 3
   },
   "file_extension": ".py",
   "mimetype": "text/x-python",
   "name": "python",
   "nbconvert_exporter": "python",
   "pygments_lexer": "ipython3",
   "version": "3.7.9"
  }
 },
 "nbformat": 4,
 "nbformat_minor": 5
}
